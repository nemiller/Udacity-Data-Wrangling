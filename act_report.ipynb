{
 "cells": [
  {
   "cell_type": "markdown",
   "metadata": {},
   "source": [
    "## Report: act_report\n",
    "* Create a **250-word-minimum written report** called \"act_report.pdf\" or \"act_report.html\" that communicates the insights and displays the visualization(s) produced from your wrangled data. This is to be framed as an external document, like a blog post or magazine article, for example."
   ]
  },
  {
   "cell_type": "markdown",
   "metadata": {},
   "source": [
    "    As I was assessing and cleaning my data, I began writing down questions that could be answered with the data. When I had a clean dataframe to work with, I reviewed and began attempting to answer the questions. The ones I found most interesting are the ones I included in my report to frame the context for my insights.\n",
    "        \n",
    "    The answer to my first question gave me a top five that closely matched the AKC's most popular dog breeds in 2017. I was not surprised by which breeds were popular, but I wasn't expecting the WRD Twitter account data to be so similar to a professional organization like the AKC. I hypothesized that a lot more mutt-type breeds would be popular.\n",
    "    \n",
    "    The answer to my second question gave me successive ties for the top 3 names. I was a dog groomer for several years, so the popular names did not surprise me. In fact, my hypothesis for the top 3 were Charlie, Lucy, and Cooper, which all made the list. The part that I found intersting, and a little funny, was that all of the top 3 spots were ties, which left me with 6 names for my top 3.\n",
    "    \n",
    "    The answer to my third question gave me the most common rating numerator. I was already familiar with WRD's unusual rating system, but I wanted to know which one is most often assigned by people on Twitter. 12 was the most popular whole number numerator, which was similar to the average across all assignments of 13.22. I did note a few exceptionally large numerators, but many were in the teens, so my results here were in line with my hypothesis that it would be ~15.\n",
    "    \n",
    "    For my visualization, I wanted to explore some datetime data. I had stripped my timestamp column in case I wanted to drill down into date or time data, which allowed me to see the change in the number of tweets throughout the year. My biggest takeaway was that more WRD Tweets are posted in cooler months, with a minor spike in the summer."
   ]
  }
 ],
 "metadata": {
  "kernelspec": {
   "display_name": "Python 3",
   "language": "python",
   "name": "python3"
  },
  "language_info": {
   "codemirror_mode": {
    "name": "ipython",
    "version": 3
   },
   "file_extension": ".py",
   "mimetype": "text/x-python",
   "name": "python",
   "nbconvert_exporter": "python",
   "pygments_lexer": "ipython3",
   "version": "3.6.3"
  }
 },
 "nbformat": 4,
 "nbformat_minor": 2
}
