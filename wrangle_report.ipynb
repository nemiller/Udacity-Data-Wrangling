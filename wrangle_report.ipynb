{
 "cells": [
  {
   "cell_type": "markdown",
   "metadata": {},
   "source": [
    "## Reporting: wragle_report\n",
    "* Create a **300-600 word written report** called \"wrangle_report.pdf\" or \"wrangle_report.html\" that briefly describes your wrangling efforts. This is to be framed as an internal document."
   ]
  },
  {
   "cell_type": "markdown",
   "metadata": {},
   "source": [
    "    I downloaded the WeRateDogs Twitter archive data stored in a CSV file, then used the pandas read_csv function. Then, I programmatically retrieved the image predictions using the Requests library. I had a hard time querying the necessary data via the Twitter API. I found that this was a problem other classmates had reported as well, so I used the alternate method as outlined in the instructions.\n",
    "    \n",
    "    As I assessed each separate data source, I used a similar technique for each. First, I wanted to get an idea of the columns, numbers of rows, and find any noticeable errors or points of friction as I worked through the rest of the project.\n",
    "    \n",
    "    There were \"missing values\" that ended up cluing me in to columns that may be irrelevant. I found that they held retweet and reply data, which I did not need. Other notable things with this data were the naming issues. This data had inconsistent breed names, both because of capitalization and underscores. Some of the image predictions were not dogs, let alone living things. My biggest challenge with this data was figuring out how I was going to merge these dataframes into a single, clean copy of only relevant data.\n",
    "    \n",
    "    I used the pandas merge function to merge the Twitter archive and Image prediction dataframes, then merged that new dataframe with the Tweet JSON dataframe. In this process, I also addressed a few of the issues I identified during my assessment. Then I made the other fixes and combined operations where appropriate or possible.\n",
    "    \n",
    "    Among other minor changes, I changed the Tweet ID data type to a string so it would not be operated on like an integer and I could use it to merge dataframes. I wrote an if/else statement to select the most appropriate image prediction, then save those values to a new dog breed column. I also replaced any invalid names, like 'a,' 'an,' or 'the' with a single value of 'None.'\n",
    "\n",
    "    When I finished with my assessment and addressing the problems I found with the data, I stored my clean, merged dataframe to a master dataset CSV file."
   ]
  }
 ],
 "metadata": {
  "kernelspec": {
   "display_name": "Python 3",
   "language": "python",
   "name": "python3"
  },
  "language_info": {
   "codemirror_mode": {
    "name": "ipython",
    "version": 3
   },
   "file_extension": ".py",
   "mimetype": "text/x-python",
   "name": "python",
   "nbconvert_exporter": "python",
   "pygments_lexer": "ipython3",
   "version": "3.6.3"
  }
 },
 "nbformat": 4,
 "nbformat_minor": 2
}
